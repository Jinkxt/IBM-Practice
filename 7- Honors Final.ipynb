{
 "cells": [
  {
   "cell_type": "code",
   "execution_count": 296,
   "metadata": {},
   "outputs": [
    {
     "name": "stdout",
     "output_type": "stream",
     "text": [
      "The sql extension is already loaded. To reload it, use:\n",
      "  %reload_ext sql\n"
     ]
    }
   ],
   "source": [
    "%load_ext sql\n",
    "%sql ibm_db_sa://bzg64264:de1zuazffWjooMLP@764264db-9824-4b7c-82df-40d1b13897c2.bs2io90l08kqb1od8lcg.databases.appdomain.cloud:32536/bludb?security=SSL\n",
    "%config SqlMagic.displaycon = False"
   ]
  },
  {
   "cell_type": "code",
   "execution_count": 257,
   "metadata": {},
   "outputs": [
    {
     "name": "stdout",
     "output_type": "stream",
     "text": [
      " * ibm_db_sa://bzg64264:***@764264db-9824-4b7c-82df-40d1b13897c2.bs2io90l08kqb1od8lcg.databases.appdomain.cloud:32536/bludb?security=SSL\n",
      "Done.\n"
     ]
    },
    {
     "data": {
      "text/html": [
       "<table>\n",
       "    <thead>\n",
       "        <tr>\n",
       "            <th>name_of_school</th>\n",
       "            <th>community_area_name</th>\n",
       "            <th>average_student_attendance</th>\n",
       "            <th>hardship_index</th>\n",
       "        </tr>\n",
       "    </thead>\n",
       "    <tbody>\n",
       "        <tr>\n",
       "            <td>George Washington Carver Military Academy High School</td>\n",
       "            <td>RIVERDALE</td>\n",
       "            <td>91.60%</td>\n",
       "            <td>98</td>\n",
       "        </tr>\n",
       "        <tr>\n",
       "            <td>George Washington Carver Primary School</td>\n",
       "            <td>RIVERDALE</td>\n",
       "            <td>90.90%</td>\n",
       "            <td>98</td>\n",
       "        </tr>\n",
       "        <tr>\n",
       "            <td>Ira F Aldridge Elementary School</td>\n",
       "            <td>RIVERDALE</td>\n",
       "            <td>92.90%</td>\n",
       "            <td>98</td>\n",
       "        </tr>\n",
       "        <tr>\n",
       "            <td>William E B Dubois Elementary School</td>\n",
       "            <td>RIVERDALE</td>\n",
       "            <td>93.30%</td>\n",
       "            <td>98</td>\n",
       "        </tr>\n",
       "    </tbody>\n",
       "</table>"
      ],
      "text/plain": [
       "[('George Washington Carver Military Academy High School', 'RIVERDALE', '91.60%', 98),\n",
       " ('George Washington Carver Primary School', 'RIVERDALE', '90.90%', 98),\n",
       " ('Ira F Aldridge Elementary School', 'RIVERDALE', '92.90%', 98),\n",
       " ('William E B Dubois Elementary School', 'RIVERDALE', '93.30%', 98)]"
      ]
     },
     "execution_count": 257,
     "metadata": {},
     "output_type": "execute_result"
    }
   ],
   "source": [
    "%%sql\n",
    "select s.name_of_school, s.COMMUNITY_AREA_NAME, s.AVERAGE_STUDENT_ATTENDANCE, c.HARDSHIP_INDEX\n",
    "from CHICAGO_PUBLIC_SCHOOLS_DATA as s left join CENSUS_DATA as c\n",
    "on c.COMMUNITY_AREA_NUMBER=s.COMMUNITY_AREA_NUMBER\n",
    "where HARDSHIP_INDEX = 98\n",
    ";"
   ]
  },
  {
   "cell_type": "code",
   "execution_count": 17,
   "metadata": {},
   "outputs": [
    {
     "name": "stdout",
     "output_type": "stream",
     "text": [
      " * ibm_db_sa://bzg64264:***@764264db-9824-4b7c-82df-40d1b13897c2.bs2io90l08kqb1od8lcg.databases.appdomain.cloud:32536/bludb?security=SSL\n",
      "Done.\n"
     ]
    },
    {
     "data": {
      "text/html": [
       "<table>\n",
       "    <thead>\n",
       "        <tr>\n",
       "            <th>case_number</th>\n",
       "            <th>primary_type</th>\n",
       "            <th>community_area_number</th>\n",
       "            <th>community_area_name</th>\n",
       "        </tr>\n",
       "    </thead>\n",
       "    <tbody>\n",
       "        <tr>\n",
       "            <td>HK577020</td>\n",
       "            <td>NARCOTICS</td>\n",
       "            <td>1</td>\n",
       "            <td>Rogers Park</td>\n",
       "        </tr>\n",
       "        <tr>\n",
       "            <td>HL725506</td>\n",
       "            <td>BATTERY</td>\n",
       "            <td>4</td>\n",
       "            <td>Lincoln Square</td>\n",
       "        </tr>\n",
       "        <tr>\n",
       "            <td>HH639427</td>\n",
       "            <td>BATTERY</td>\n",
       "            <td>25</td>\n",
       "            <td>Austin</td>\n",
       "        </tr>\n",
       "        <tr>\n",
       "            <td>HS200939</td>\n",
       "            <td>CRIMINAL DAMAGE</td>\n",
       "            <td>25</td>\n",
       "            <td>Austin</td>\n",
       "        </tr>\n",
       "        <tr>\n",
       "            <td>HT315369</td>\n",
       "            <td>ASSAULT</td>\n",
       "            <td>27</td>\n",
       "            <td>East Garfield Park</td>\n",
       "        </tr>\n",
       "        <tr>\n",
       "            <td>HP716225</td>\n",
       "            <td>BATTERY</td>\n",
       "            <td>35</td>\n",
       "            <td>Douglas</td>\n",
       "        </tr>\n",
       "        <tr>\n",
       "            <td>HL353697</td>\n",
       "            <td>BATTERY</td>\n",
       "            <td>43</td>\n",
       "            <td>South Shore</td>\n",
       "        </tr>\n",
       "        <tr>\n",
       "            <td>HS305355</td>\n",
       "            <td>NARCOTICS</td>\n",
       "            <td>58</td>\n",
       "            <td>Brighton Park</td>\n",
       "        </tr>\n",
       "        <tr>\n",
       "            <td>JA460432</td>\n",
       "            <td>BATTERY</td>\n",
       "            <td>70</td>\n",
       "            <td>Ashburn</td>\n",
       "        </tr>\n",
       "        <tr>\n",
       "            <td>HR585012</td>\n",
       "            <td>CRIMINAL TRESPASS</td>\n",
       "            <td>70</td>\n",
       "            <td>Ashburn</td>\n",
       "        </tr>\n",
       "        <tr>\n",
       "            <td>HH292682</td>\n",
       "            <td>PUBLIC PEACE VIOLATION</td>\n",
       "            <td>None</td>\n",
       "            <td>None</td>\n",
       "        </tr>\n",
       "        <tr>\n",
       "            <td>G635735</td>\n",
       "            <td>PUBLIC PEACE VIOLATION</td>\n",
       "            <td>None</td>\n",
       "            <td>None</td>\n",
       "        </tr>\n",
       "    </tbody>\n",
       "</table>"
      ],
      "text/plain": [
       "[('HK577020', 'NARCOTICS', 1, 'Rogers Park'),\n",
       " ('HL725506', 'BATTERY', 4, 'Lincoln Square'),\n",
       " ('HH639427', 'BATTERY', 25, 'Austin'),\n",
       " ('HS200939', 'CRIMINAL DAMAGE', 25, 'Austin'),\n",
       " ('HT315369', 'ASSAULT', 27, 'East Garfield Park'),\n",
       " ('HP716225', 'BATTERY', 35, 'Douglas'),\n",
       " ('HL353697', 'BATTERY', 43, 'South Shore'),\n",
       " ('HS305355', 'NARCOTICS', 58, 'Brighton Park'),\n",
       " ('JA460432', 'BATTERY', 70, 'Ashburn'),\n",
       " ('HR585012', 'CRIMINAL TRESPASS', 70, 'Ashburn'),\n",
       " ('HH292682', 'PUBLIC PEACE VIOLATION', None, None),\n",
       " ('G635735', 'PUBLIC PEACE VIOLATION', None, None)]"
      ]
     },
     "execution_count": 17,
     "metadata": {},
     "output_type": "execute_result"
    }
   ],
   "source": [
    "%%sql\n",
    "select c.case_number, c.primary_type, c.community_area_number,  v.community_area_name\n",
    "from CHICAGO_CRIME_DATA as c left outer join CENSUS_DATA as v\n",
    "on c.community_area_number=v.community_area_number\n",
    "where lower(c.location_description) like '%school%'\n",
    ";"
   ]
  },
  {
   "attachments": {},
   "cell_type": "markdown",
   "metadata": {},
   "source": [
    "# Views"
   ]
  },
  {
   "cell_type": "code",
   "execution_count": 259,
   "metadata": {},
   "outputs": [
    {
     "name": "stdout",
     "output_type": "stream",
     "text": [
      " * ibm_db_sa://bzg64264:***@764264db-9824-4b7c-82df-40d1b13897c2.bs2io90l08kqb1od8lcg.databases.appdomain.cloud:32536/bludb?security=SSL\n",
      "Done.\n"
     ]
    },
    {
     "data": {
      "text/html": [
       "<table>\n",
       "    <thead>\n",
       "        <tr>\n",
       "            <th>colname</th>\n",
       "        </tr>\n",
       "    </thead>\n",
       "    <tbody>\n",
       "        <tr>\n",
       "            <td>ENVIRONMENT_RATING</td>\n",
       "        </tr>\n",
       "        <tr>\n",
       "            <td>FAMILY_RATING</td>\n",
       "        </tr>\n",
       "        <tr>\n",
       "            <td>INSTRUCTION_RATING</td>\n",
       "        </tr>\n",
       "        <tr>\n",
       "            <td>LEADERS_RATING</td>\n",
       "        </tr>\n",
       "        <tr>\n",
       "            <td>SAFETY_RATING</td>\n",
       "        </tr>\n",
       "        <tr>\n",
       "            <td>SCHOOL_NAME</td>\n",
       "        </tr>\n",
       "        <tr>\n",
       "            <td>TEACHERS_RATING</td>\n",
       "        </tr>\n",
       "    </tbody>\n",
       "</table>"
      ],
      "text/plain": [
       "[('ENVIRONMENT_RATING',),\n",
       " ('FAMILY_RATING',),\n",
       " ('INSTRUCTION_RATING',),\n",
       " ('LEADERS_RATING',),\n",
       " ('SAFETY_RATING',),\n",
       " ('SCHOOL_NAME',),\n",
       " ('TEACHERS_RATING',)]"
      ]
     },
     "execution_count": 259,
     "metadata": {},
     "output_type": "execute_result"
    }
   ],
   "source": [
    "%%sql \n",
    "select colname from syscat.columns \n",
    "where LOWER(tabname)='obsview'\n",
    ";"
   ]
  },
  {
   "cell_type": "code",
   "execution_count": 258,
   "metadata": {},
   "outputs": [
    {
     "name": "stdout",
     "output_type": "stream",
     "text": [
      " * ibm_db_sa://bzg64264:***@764264db-9824-4b7c-82df-40d1b13897c2.bs2io90l08kqb1od8lcg.databases.appdomain.cloud:32536/bludb?security=SSL\n",
      "Done.\n"
     ]
    },
    {
     "data": {
      "text/plain": [
       "[]"
      ]
     },
     "execution_count": 258,
     "metadata": {},
     "output_type": "execute_result"
    }
   ],
   "source": [
    "%%sql\n",
    "create or replace view obsview\n",
    "  (School_Name, Safety_Rating,Family_Rating,Environment_Rating,Instruction_Rating, Leaders_Rating, Teachers_Rating) \n",
    "as select NAME_OF_SCHOOL,Safety_Icon,Family_Involvement_Icon,Environment_Icon,Instruction_Icon,Leaders_Icon,Teachers_Icon\n",
    "from CHICAGO_PUBLIC_SCHOOLS_DATA\n",
    ";"
   ]
  },
  {
   "cell_type": "code",
   "execution_count": 261,
   "metadata": {},
   "outputs": [
    {
     "name": "stdout",
     "output_type": "stream",
     "text": [
      " * ibm_db_sa://bzg64264:***@764264db-9824-4b7c-82df-40d1b13897c2.bs2io90l08kqb1od8lcg.databases.appdomain.cloud:32536/bludb?security=SSL\n",
      "Done.\n"
     ]
    },
    {
     "data": {
      "text/html": [
       "<table>\n",
       "    <thead>\n",
       "        <tr>\n",
       "            <th>school_name</th>\n",
       "            <th>leaders_rating</th>\n",
       "        </tr>\n",
       "    </thead>\n",
       "    <tbody>\n",
       "        <tr>\n",
       "            <td>Abraham Lincoln Elementary School</td>\n",
       "            <td>Weak</td>\n",
       "        </tr>\n",
       "        <tr>\n",
       "            <td>Adam Clayton Powell Paideia Community Academy Elementary School</td>\n",
       "            <td>Weak</td>\n",
       "        </tr>\n",
       "        <tr>\n",
       "            <td>Adlai E Stevenson Elementary School</td>\n",
       "            <td>Weak</td>\n",
       "        </tr>\n",
       "        <tr>\n",
       "            <td>Agustin Lara Elementary Academy</td>\n",
       "            <td>Weak</td>\n",
       "        </tr>\n",
       "        <tr>\n",
       "            <td>Air Force Academy High School</td>\n",
       "            <td>Weak</td>\n",
       "        </tr>\n",
       "    </tbody>\n",
       "</table>"
      ],
      "text/plain": [
       "[('Abraham Lincoln Elementary School', 'Weak'),\n",
       " ('Adam Clayton Powell Paideia Community Academy Elementary School', 'Weak'),\n",
       " ('Adlai E Stevenson Elementary School', 'Weak'),\n",
       " ('Agustin Lara Elementary Academy', 'Weak'),\n",
       " ('Air Force Academy High School', 'Weak')]"
      ]
     },
     "execution_count": 261,
     "metadata": {},
     "output_type": "execute_result"
    }
   ],
   "source": [
    "%%sql\n",
    "select SCHOOL_NAME, LEADERS_RATING from obsview\n",
    "limit 5\n",
    ";\n"
   ]
  },
  {
   "cell_type": "code",
   "execution_count": null,
   "metadata": {},
   "outputs": [],
   "source": [
    "%%sql \n",
    "--#SET TERMINATOR @\n",
    "CREATE OR REPLACE PROCEDURE \n",
    "UPDATE_LEADERS_SCORE (IN in_School_ID INT, IN in_Leader_Score INT)\n",
    "LANGUAGE SQL\n",
    "MODIFIES SQL DATA\n",
    "\n",
    "BEGIN\n",
    "    UPDATE CHICAGO_PUBLIC_SCHOOLS_DATA   \n",
    "    SET Leaders_Score = in_Leader_Score    \n",
    "    WHERE SCHOOL_ID = in_School_ID;\n",
    "    \n",
    "    IF in_Leader_Score  < 20 AND in_Leader_Score >= 0 THEN  UPDATE CHICAGO_PUBLIC_SCHOOLS_DATA  \n",
    "        SET LEADERS_ICON = 'Very weak'  WHERE SCHOOL_ID = in_School_ID;\n",
    "    ELSEIF in_Leader_Score  < 40 THEN  UPDATE CHICAGO_PUBLIC_SCHOOLS_DATA  \n",
    "        SET LEADERS_ICON = 'Weak'  WHERE SCHOOL_ID = in_School_ID;\n",
    "    ELSEIF in_Leader_Score  < 60 THEN   UPDATE CHICAGO_PUBLIC_SCHOOLS_DATA  \n",
    "        SET LEADERS_ICON = 'Average'  WHERE SCHOOL_ID = in_School_ID;\n",
    "    ELSEIF in_Leader_Score  < 80 THEN   UPDATE CHICAGO_PUBLIC_SCHOOLS_DATA  \n",
    "        SET LEADERS_ICON = 'Strong'  WHERE SCHOOL_ID = in_School_ID;\n",
    "    ELSEIF in_Leader_Score  < 100 THEN   UPDATE CHICAGO_PUBLIC_SCHOOLS_DATA  \n",
    "        SET LEADERS_ICON = 'Very strong'    WHERE SCHOOL_ID = in_School_ID;\n",
    "    ELSE\n",
    "        ROLLBACK WORK;\n",
    "    END IF;\n",
    "\tCOMMIT WORK;\n",
    "END\n",
    "@"
   ]
  },
  {
   "cell_type": "code",
   "execution_count": 312,
   "metadata": {},
   "outputs": [
    {
     "name": "stdout",
     "output_type": "stream",
     "text": [
      "Done.\n",
      "Done.\n"
     ]
    },
    {
     "data": {
      "text/html": [
       "<table>\n",
       "    <thead>\n",
       "        <tr>\n",
       "            <th>name_of_school</th>\n",
       "            <th>leaders_score</th>\n",
       "            <th>leaders_icon</th>\n",
       "        </tr>\n",
       "    </thead>\n",
       "    <tbody>\n",
       "        <tr>\n",
       "            <td>Chicago Vocational Career Academy High School</td>\n",
       "            <td>38</td>\n",
       "            <td>Weak</td>\n",
       "        </tr>\n",
       "    </tbody>\n",
       "</table>"
      ],
      "text/plain": [
       "[('Chicago Vocational Career Academy High School', '38', 'Weak')]"
      ]
     },
     "execution_count": 312,
     "metadata": {},
     "output_type": "execute_result"
    }
   ],
   "source": [
    "%sql CALL UPDATE_LEADERS_SCORE(609674, 38);\n",
    "%sql SELECT NAME_OF_SCHOOL,LEADERS_SCORE,LEADERS_ICON from CHICAGO_PUBLIC_SCHOOLS_DATA  where school_id = 609674;"
   ]
  },
  {
   "cell_type": "code",
   "execution_count": 313,
   "metadata": {},
   "outputs": [
    {
     "name": "stdout",
     "output_type": "stream",
     "text": [
      "Done.\n",
      "Done.\n"
     ]
    },
    {
     "data": {
      "text/html": [
       "<table>\n",
       "    <thead>\n",
       "        <tr>\n",
       "            <th>name_of_school</th>\n",
       "            <th>leaders_score</th>\n",
       "            <th>leaders_icon</th>\n",
       "        </tr>\n",
       "    </thead>\n",
       "    <tbody>\n",
       "        <tr>\n",
       "            <td>Chicago Vocational Career Academy High School</td>\n",
       "            <td>38</td>\n",
       "            <td>Weak</td>\n",
       "        </tr>\n",
       "    </tbody>\n",
       "</table>"
      ],
      "text/plain": [
       "[('Chicago Vocational Career Academy High School', '38', 'Weak')]"
      ]
     },
     "execution_count": 313,
     "metadata": {},
     "output_type": "execute_result"
    }
   ],
   "source": [
    "%sql CALL UPDATE_LEADERS_SCORE(609674, 101);\n",
    "%sql SELECT NAME_OF_SCHOOL,LEADERS_SCORE,LEADERS_ICON from CHICAGO_PUBLIC_SCHOOLS_DATA  where school_id = 609674;"
   ]
  },
  {
   "cell_type": "code",
   "execution_count": 128,
   "metadata": {},
   "outputs": [
    {
     "name": "stdout",
     "output_type": "stream",
     "text": [
      " * ibm_db_sa://bzg64264:***@764264db-9824-4b7c-82df-40d1b13897c2.bs2io90l08kqb1od8lcg.databases.appdomain.cloud:32536/bludb?security=SSL\n",
      "Done.\n"
     ]
    },
    {
     "data": {
      "text/plain": [
       "[]"
      ]
     },
     "execution_count": 128,
     "metadata": {},
     "output_type": "execute_result"
    }
   ],
   "source": [
    "%%sql\n",
    "ALTER TABLE CHICAGO_PUBLIC_SCHOOLS_DATA \n",
    "ALTER COLUMN leaders_icon SET DATA TYPE varchar(15);"
   ]
  }
 ],
 "metadata": {
  "kernelspec": {
   "display_name": "ibmP",
   "language": "python",
   "name": "python3"
  },
  "language_info": {
   "codemirror_mode": {
    "name": "ipython",
    "version": 3
   },
   "file_extension": ".py",
   "mimetype": "text/x-python",
   "name": "python",
   "nbconvert_exporter": "python",
   "pygments_lexer": "ipython3",
   "version": "3.10.11"
  },
  "orig_nbformat": 4
 },
 "nbformat": 4,
 "nbformat_minor": 2
}
