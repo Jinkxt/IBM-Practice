{
 "cells": [
  {
   "cell_type": "code",
   "execution_count": 1,
   "metadata": {},
   "outputs": [],
   "source": [
    "import pandas as pd\n",
    "import plotly.express as px\n",
    "from dash import Dash, html, dcc\n",
    "from dash.dependencies import Input, Output"
   ]
  },
  {
   "cell_type": "code",
   "execution_count": 2,
   "metadata": {},
   "outputs": [],
   "source": [
    "app = Dash(__name__)"
   ]
  },
  {
   "cell_type": "code",
   "execution_count": 3,
   "metadata": {},
   "outputs": [],
   "source": [
    "df = pd.read_csv(\"https://cf-courses-data.s3.us.cloud-object-storage.appdomain.cloud/IBMDeveloperSkillsNetwork-DA0101EN-SkillsNetwork/labs/Data%20files/automobileEDA.csv\")\n",
    "df = df[['body-style','price','drive-wheels']].groupby(['body-style','drive-wheels']).mean().reset_index()\n",
    "df['drive-wheels']=df['drive-wheels'].replace('fwd', 'Front-Wheel Drive')\\\n",
    "                  .replace('rwd', 'Rear-Wheel Drive')\\\n",
    "                  .replace('4wd', 'Four-Wheel Drive')\n"
   ]
  },
  {
   "cell_type": "code",
   "execution_count": 4,
   "metadata": {},
   "outputs": [],
   "source": [
    "@app.callback([Output(component_id='bar-graph-1', component_property='figure'),\n",
    "               Output(component_id='pie-graph-1', component_property='figure')],\n",
    "               Input (component_id='drop-down'  , component_property='value' ))\n",
    "\n",
    "def get_grap(dw):\n",
    "    tmp = df.loc[df['drive-wheels']==dw].reset_index()\n",
    "    barplot = px.bar(tmp,x='body-style',y='price', color='drive-wheels')\n",
    "    barplot.update_layout(showlegend=False)\n",
    "    pieplot= px.pie(tmp,'body-style','price')\n",
    "    pieplot.update_layout()\n",
    "    return [barplot, pieplot]"
   ]
  },
  {
   "cell_type": "code",
   "execution_count": 5,
   "metadata": {},
   "outputs": [],
   "source": [
    "app.layout = \\\n",
    "html.Div(\n",
    "    children=[\n",
    "        html.H1(\n",
    "            children=\"Dashboard\",\n",
    "            style={\n",
    "                'textAlign': 'center'\n",
    "            }\n",
    "        ),\n",
    "        html.H2('Drive Wheels Type:',\n",
    "            style={'margin-right': '2em'}\n",
    "        ),\n",
    "        dcc.Dropdown(\n",
    "            options=list(df['drive-wheels'].unique()),\n",
    "            value='Front-Wheel Drive',\n",
    "            id='drop-down'\n",
    "        ),\n",
    "        html.Div(\n",
    "            children=[\n",
    "                dcc.Graph(id='pie-graph-1', style={'width': '50%', 'min-width': '500px'}),\n",
    "                dcc.Graph(id='bar-graph-1', style={'width': '50%', 'min-width': '500px'}),\n",
    "            ], \n",
    "            style={\n",
    "                'display':'flex',\n",
    "                'flex-direction': 'row',\n",
    "                'flex-wrap':'wrap',\n",
    "                'justify-content':'center',\n",
    "            }\n",
    "        )\n",
    "    ]\n",
    ")"
   ]
  },
  {
   "cell_type": "code",
   "execution_count": 6,
   "metadata": {},
   "outputs": [
    {
     "name": "stdout",
     "output_type": "stream",
     "text": [
      "Dash is running on http://127.0.0.1:45566/\n",
      "\n",
      " * Serving Flask app '__main__'\n",
      " * Debug mode: off\n"
     ]
    },
    {
     "name": "stderr",
     "output_type": "stream",
     "text": [
      "WARNING: This is a development server. Do not use it in a production deployment. Use a production WSGI server instead.\n",
      " * Running on http://127.0.0.1:45566\n",
      "Press CTRL+C to quit\n",
      "127.0.0.1 - - [08/Jun/2023 13:17:57] \"GET / HTTP/1.1\" 200 -\n",
      "127.0.0.1 - - [08/Jun/2023 13:17:57] \"GET /_dash-layout HTTP/1.1\" 200 -\n",
      "127.0.0.1 - - [08/Jun/2023 13:17:57] \"GET /_dash-dependencies HTTP/1.1\" 200 -\n",
      "127.0.0.1 - - [08/Jun/2023 13:17:57] \"GET /_favicon.ico?v=2.9.3 HTTP/1.1\" 200 -\n",
      "127.0.0.1 - - [08/Jun/2023 13:17:57] \"GET /_dash-component-suites/dash/dcc/async-dropdown.js HTTP/1.1\" 304 -\n",
      "127.0.0.1 - - [08/Jun/2023 13:17:57] \"GET /_dash-component-suites/dash/dcc/async-graph.js HTTP/1.1\" 304 -\n",
      "127.0.0.1 - - [08/Jun/2023 13:17:57] \"GET /_dash-component-suites/dash/dcc/async-plotlyjs.js HTTP/1.1\" 304 -\n",
      "127.0.0.1 - - [08/Jun/2023 13:17:57] \"POST /_dash-update-component HTTP/1.1\" 200 -\n",
      "127.0.0.1 - - [08/Jun/2023 13:18:08] \"GET /_dash-component-suites/dash/dcc/async-graph.js.map HTTP/1.1\" 304 -\n",
      "127.0.0.1 - - [08/Jun/2023 13:18:08] \"GET /_dash-component-suites/dash/dcc/async-dropdown.js.map HTTP/1.1\" 304 -\n",
      "127.0.0.1 - - [08/Jun/2023 13:18:08] \"GET /_dash-component-suites/dash/dcc/dash_core_components-shared.js.map HTTP/1.1\" 304 -\n",
      "127.0.0.1 - - [08/Jun/2023 13:18:08] \"GET /_dash-component-suites/dash/dcc/dash_core_components.js.map HTTP/1.1\" 304 -\n",
      "127.0.0.1 - - [08/Jun/2023 13:18:08] \"GET /_dash-component-suites/dash/dash_table/bundle.js.map HTTP/1.1\" 304 -\n",
      "127.0.0.1 - - [08/Jun/2023 13:18:08] \"GET /_dash-component-suites/dash/html/dash_html_components.min.js.map HTTP/1.1\" 304 -\n",
      "127.0.0.1 - - [08/Jun/2023 13:18:32] \"POST /_dash-update-component HTTP/1.1\" 200 -\n"
     ]
    }
   ],
   "source": [
    "if __name__ == '__main__':\n",
    "    app.run(host='127.0.0.1',    port='45566',)"
   ]
  },
  {
   "cell_type": "code",
   "execution_count": null,
   "metadata": {},
   "outputs": [],
   "source": []
  }
 ],
 "metadata": {
  "kernelspec": {
   "display_name": "Python 3",
   "language": "python",
   "name": "python3"
  },
  "language_info": {
   "codemirror_mode": {
    "name": "ipython",
    "version": 3
   },
   "file_extension": ".py",
   "mimetype": "text/x-python",
   "name": "python",
   "nbconvert_exporter": "python",
   "pygments_lexer": "ipython3",
   "version": "3.11.1"
  },
  "orig_nbformat": 4
 },
 "nbformat": 4,
 "nbformat_minor": 2
}
