{
 "cells": [
  {
   "cell_type": "code",
   "execution_count": 1,
   "metadata": {},
   "outputs": [],
   "source": [
    "# Import required libraries\n",
    "import pandas as pd\n",
    "from dash import Dash, html, dcc\n",
    "from dash.dependencies import Input, Output\n",
    "import plotly.express as px\n"
   ]
  },
  {
   "cell_type": "code",
   "execution_count": 2,
   "metadata": {},
   "outputs": [],
   "source": [
    "\n",
    "# Read the airline data into pandas dataframe\n",
    "spacex_df = pd.read_csv(\"../data/spacex_launch_dash.csv\")\n",
    "max_payload = spacex_df['Payload Mass (kg)'].max()\n",
    "min_payload = spacex_df['Payload Mass (kg)'].min()\n",
    "\n",
    "# Create a dash application\n",
    "app = Dash(__name__)\n",
    "launch_sites=spacex_df['Launch Site'].unique()\n",
    "opt=dict(zip(launch_sites,launch_sites))\n",
    "opt['ALL']='ALL'\n"
   ]
  },
  {
   "cell_type": "code",
   "execution_count": 3,
   "metadata": {},
   "outputs": [],
   "source": [
    "\n",
    "@app.callback([Output(component_id='success-pie-chart'            , component_property='figure'),\n",
    "               Output(component_id='success-payload-scatter-chart', component_property='figure')],\n",
    "              [Input(component_id='site-dropdown'                 , component_property='value'),\n",
    "               Input(component_id='payload-slider'                , component_property='value')])\n",
    "def get_grapsh(ls, slider):\n",
    "    data=spacex_df[['Launch Site','class']].groupby('Launch Site').value_counts().reset_index()\n",
    "    if ls == 'ALL':\n",
    "        data=data[data['class']==1]\n",
    "        pie_chart=px.pie(data, names='Launch Site', values=0,title='Total success launches per site') \n",
    "        data=spacex_df[['class', \"Payload Mass (kg)\", 'Booster Version']]\n",
    "        data=data[data [\"Payload Mass (kg)\"] > slider[0]]\n",
    "        data=data[data [\"Payload Mass (kg)\"] < slider[1] ]\n",
    "        scatter_chart=px.scatter(data, x='Payload Mass (kg)', y='class', color='Booster Version', \n",
    "                                 title= 'Launch success/ fail as a function of payload mass for all launch sites') \n",
    "    else:   \n",
    "        data=data[data['Launch Site']==ls]    \n",
    "        pie_chart=px.pie(data, names='class', values=0, title=\"Success / Failure ratio for at the %s site \" %ls, labels='class', color_discrete_map={'0':'red', '1':'green'})\n",
    "        data=spacex_df[['Launch Site','class', 'Payload Mass (kg)', 'Booster Version']]\n",
    "        data=data[data['Launch Site']==ls]\n",
    "        data=data[data [\"Payload Mass (kg)\"] > slider[0]]\n",
    "        data=data[data [\"Payload Mass (kg)\"] < slider[1] ]\n",
    "        scatter_chart=px.scatter(data, x='Payload Mass (kg)', y='class', color='Booster Version',\n",
    "                                  title= 'Launch success/ fail as a function of payload mass at the %s site'%ls)\n",
    "    \n",
    "\n",
    "    return pie_chart, scatter_chart\n",
    "\n",
    "\n",
    "# Create an app layout\n",
    "app.layout = html.Div(children=[html.H1('SpaceX Launch Records Dashboard',\n",
    "                                        style={'textAlign': 'center', 'color': '#503D36',\n",
    "                                               'font-size': 40}),\n",
    "                                # TASK 1: Add a dropdown list to enable Launch Site selection\n",
    "                                # The default select value is for ALL sites\n",
    "                                dcc.Dropdown(id='site-dropdown',\n",
    "                                             options=opt,\n",
    "                                             value= 'ALL',  \n",
    "                                             placeholder=\"All Sites\",\n",
    "                                             searchable=True,\n",
    "                                             ),\n",
    "                                html.Br(),\n",
    "\n",
    "                                # TASK 2: Add a pie chart to show the total successful launches count for all sites\n",
    "                                # If a specific launch site was selected, show the Success vs. Failed counts for the site\n",
    "                                html.Div(dcc.Graph(id='success-pie-chart')),\n",
    "                                html.Br(),\n",
    "\n",
    "                                html.P(\"Payload range (Kg):\"),\n",
    "                                # TASK 3: Add a slider to select payload range\n",
    "                                dcc.RangeSlider(id='payload-slider',min=min_payload, max=max_payload, value=[min_payload,max_payload]),\n",
    "\n",
    "                                # TASK 4: Add a scatter chart to show the correlation between payload and launch success\n",
    "                                html.Div(dcc.Graph(id='success-payload-scatter-chart')),\n",
    "                                ])\n",
    "\n",
    "# TASK 2:\n",
    "# Add a callback function for `site-dropdown` as input, `success-pie-chart` as output\n",
    "\n",
    "# TASK 4:\n",
    "# Add a callback function for `site-dropdown` and `payload-slider` as inputs, `success-payload-scatter-chart` as output\n"
   ]
  },
  {
   "cell_type": "code",
   "execution_count": 4,
   "metadata": {},
   "outputs": [
    {
     "name": "stdout",
     "output_type": "stream",
     "text": [
      "Dash is running on http://127.0.0.1:45566/\n",
      "\n",
      " * Serving Flask app '__main__'\n",
      " * Debug mode: off\n"
     ]
    },
    {
     "name": "stderr",
     "output_type": "stream",
     "text": [
      "WARNING: This is a development server. Do not use it in a production deployment. Use a production WSGI server instead.\n",
      " * Running on http://127.0.0.1:45566\n",
      "Press CTRL+C to quit\n",
      "127.0.0.1 - - [24/Jun/2023 14:47:51] \"GET / HTTP/1.1\" 200 -\n",
      "127.0.0.1 - - [24/Jun/2023 14:47:51] \"GET /_dash-layout HTTP/1.1\" 200 -\n",
      "127.0.0.1 - - [24/Jun/2023 14:47:51] \"GET /_dash-dependencies HTTP/1.1\" 200 -\n",
      "127.0.0.1 - - [24/Jun/2023 14:47:51] \"GET /_dash-component-suites/dash/dcc/async-graph.js HTTP/1.1\" 304 -\n",
      "127.0.0.1 - - [24/Jun/2023 14:47:51] \"GET /_dash-component-suites/dash/dcc/async-dropdown.js HTTP/1.1\" 304 -\n",
      "127.0.0.1 - - [24/Jun/2023 14:47:51] \"GET /_dash-component-suites/dash/dcc/async-slider.js HTTP/1.1\" 304 -\n",
      "127.0.0.1 - - [24/Jun/2023 14:47:51] \"GET /_dash-component-suites/dash/dcc/async-plotlyjs.js HTTP/1.1\" 304 -\n",
      "127.0.0.1 - - [24/Jun/2023 14:47:52] \"POST /_dash-update-component HTTP/1.1\" 200 -\n",
      "127.0.0.1 - - [24/Jun/2023 14:47:55] \"POST /_dash-update-component HTTP/1.1\" 200 -\n",
      "127.0.0.1 - - [24/Jun/2023 14:47:57] \"POST /_dash-update-component HTTP/1.1\" 200 -\n",
      "127.0.0.1 - - [24/Jun/2023 14:47:58] \"POST /_dash-update-component HTTP/1.1\" 200 -\n",
      "127.0.0.1 - - [24/Jun/2023 14:48:01] \"POST /_dash-update-component HTTP/1.1\" 200 -\n",
      "127.0.0.1 - - [24/Jun/2023 14:48:02] \"POST /_dash-update-component HTTP/1.1\" 200 -\n",
      "127.0.0.1 - - [24/Jun/2023 14:48:04] \"POST /_dash-update-component HTTP/1.1\" 200 -\n",
      "127.0.0.1 - - [24/Jun/2023 14:48:06] \"POST /_dash-update-component HTTP/1.1\" 200 -\n",
      "127.0.0.1 - - [24/Jun/2023 14:48:08] \"POST /_dash-update-component HTTP/1.1\" 200 -\n",
      "127.0.0.1 - - [24/Jun/2023 14:48:31] \"POST /_dash-update-component HTTP/1.1\" 200 -\n",
      "127.0.0.1 - - [24/Jun/2023 14:53:35] \"POST /_dash-update-component HTTP/1.1\" 200 -\n",
      "127.0.0.1 - - [24/Jun/2023 14:53:38] \"POST /_dash-update-component HTTP/1.1\" 200 -\n",
      "127.0.0.1 - - [24/Jun/2023 14:53:41] \"POST /_dash-update-component HTTP/1.1\" 200 -\n",
      "127.0.0.1 - - [24/Jun/2023 14:53:43] \"POST /_dash-update-component HTTP/1.1\" 200 -\n",
      "127.0.0.1 - - [24/Jun/2023 14:53:47] \"POST /_dash-update-component HTTP/1.1\" 200 -\n",
      "127.0.0.1 - - [24/Jun/2023 14:53:49] \"POST /_dash-update-component HTTP/1.1\" 200 -\n",
      "127.0.0.1 - - [24/Jun/2023 14:53:52] \"POST /_dash-update-component HTTP/1.1\" 200 -\n",
      "127.0.0.1 - - [24/Jun/2023 14:53:57] \"POST /_dash-update-component HTTP/1.1\" 200 -\n",
      "127.0.0.1 - - [24/Jun/2023 14:54:00] \"POST /_dash-update-component HTTP/1.1\" 200 -\n",
      "127.0.0.1 - - [24/Jun/2023 14:54:02] \"POST /_dash-update-component HTTP/1.1\" 200 -\n",
      "127.0.0.1 - - [24/Jun/2023 14:54:06] \"POST /_dash-update-component HTTP/1.1\" 200 -\n",
      "127.0.0.1 - - [24/Jun/2023 14:54:10] \"POST /_dash-update-component HTTP/1.1\" 200 -\n",
      "127.0.0.1 - - [24/Jun/2023 14:54:12] \"POST /_dash-update-component HTTP/1.1\" 200 -\n",
      "127.0.0.1 - - [24/Jun/2023 14:54:14] \"POST /_dash-update-component HTTP/1.1\" 200 -\n",
      "127.0.0.1 - - [24/Jun/2023 14:54:16] \"POST /_dash-update-component HTTP/1.1\" 200 -\n",
      "127.0.0.1 - - [24/Jun/2023 14:54:17] \"POST /_dash-update-component HTTP/1.1\" 200 -\n",
      "127.0.0.1 - - [24/Jun/2023 14:54:19] \"POST /_dash-update-component HTTP/1.1\" 200 -\n",
      "127.0.0.1 - - [24/Jun/2023 14:54:21] \"POST /_dash-update-component HTTP/1.1\" 200 -\n",
      "127.0.0.1 - - [24/Jun/2023 14:54:23] \"POST /_dash-update-component HTTP/1.1\" 200 -\n",
      "127.0.0.1 - - [24/Jun/2023 14:54:25] \"POST /_dash-update-component HTTP/1.1\" 200 -\n",
      "127.0.0.1 - - [24/Jun/2023 14:54:26] \"POST /_dash-update-component HTTP/1.1\" 200 -\n",
      "127.0.0.1 - - [24/Jun/2023 14:54:28] \"POST /_dash-update-component HTTP/1.1\" 200 -\n",
      "127.0.0.1 - - [24/Jun/2023 14:54:32] \"POST /_dash-update-component HTTP/1.1\" 200 -\n",
      "127.0.0.1 - - [24/Jun/2023 14:54:35] \"POST /_dash-update-component HTTP/1.1\" 200 -\n",
      "127.0.0.1 - - [24/Jun/2023 14:54:55] \"POST /_dash-update-component HTTP/1.1\" 200 -\n"
     ]
    }
   ],
   "source": [
    "\n",
    "\n",
    "# Run the app\n",
    "if __name__ == '__main__':\n",
    "    app.run(host='127.0.0.1',    port='45566')\n"
   ]
  },
  {
   "cell_type": "code",
   "execution_count": null,
   "metadata": {},
   "outputs": [],
   "source": []
  }
 ],
 "metadata": {
  "kernelspec": {
   "display_name": "base",
   "language": "python",
   "name": "python3"
  },
  "language_info": {
   "codemirror_mode": {
    "name": "ipython",
    "version": 3
   },
   "file_extension": ".py",
   "mimetype": "text/x-python",
   "name": "python",
   "nbconvert_exporter": "python",
   "pygments_lexer": "ipython3",
   "version": "3.10.9"
  },
  "orig_nbformat": 4
 },
 "nbformat": 4,
 "nbformat_minor": 2
}
